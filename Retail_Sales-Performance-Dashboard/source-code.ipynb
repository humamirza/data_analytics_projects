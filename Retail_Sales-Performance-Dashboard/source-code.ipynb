{
 "cells": [
  {
   "cell_type": "code",
   "execution_count": 12,
   "id": "8502e3fa",
   "metadata": {},
   "outputs": [],
   "source": [
    "#Installing Libraties\n",
    "import pandas as pd\n",
    "import matplotlib.pyplot as plt\n",
    "import seaborn as sns"
   ]
  },
  {
   "cell_type": "code",
   "execution_count": 13,
   "id": "46980d97",
   "metadata": {},
   "outputs": [],
   "source": [
    "# Load dataset\n",
    "df = pd.read_csv(\"dataset.csv\")"
   ]
  },
  {
   "cell_type": "code",
   "execution_count": 14,
   "id": "469fbcc1",
   "metadata": {},
   "outputs": [
    {
     "name": "stdout",
     "output_type": "stream",
     "text": [
      "['Unnamed: 0', 'Order ID', 'Product', 'Quantity Ordered', 'Price Each', 'Order Date', 'Purchase Address', 'Month', 'Sales', 'City', 'Hour']\n"
     ]
    }
   ],
   "source": [
    "#column names\n",
    "print(df.columns.tolist())"
   ]
  },
  {
   "cell_type": "code",
   "execution_count": 15,
   "id": "f44bf843",
   "metadata": {},
   "outputs": [],
   "source": [
    "# Preprocessing\n",
    "df.columns = [col.strip().lower().replace(\" \", \"_\") for col in df.columns]"
   ]
  },
  {
   "cell_type": "code",
   "execution_count": 16,
   "id": "7e04aa2e",
   "metadata": {},
   "outputs": [
    {
     "name": "stdout",
     "output_type": "stream",
     "text": [
      "Missing values:\n",
      " unnamed:_0          0\n",
      "order_id            0\n",
      "product             0\n",
      "quantity_ordered    0\n",
      "price_each          0\n",
      "order_date          0\n",
      "purchase_address    0\n",
      "month               0\n",
      "sales               0\n",
      "city                0\n",
      "hour                0\n",
      "dtype: int64\n"
     ]
    }
   ],
   "source": [
    "# Check for nulls\n",
    "print(\"Missing values:\\n\", df.isnull().sum())"
   ]
  },
  {
   "cell_type": "code",
   "execution_count": 17,
   "id": "4e74c96b",
   "metadata": {},
   "outputs": [],
   "source": [
    "# Remove rows with missing values\n",
    "df.dropna(inplace=True)"
   ]
  },
  {
   "cell_type": "code",
   "execution_count": 18,
   "id": "475f8afb",
   "metadata": {},
   "outputs": [],
   "source": [
    "# Convert order_date to datetime\n",
    "df['order_date'] = pd.to_datetime(df['order_date'], errors='coerce')"
   ]
  },
  {
   "cell_type": "code",
   "execution_count": 19,
   "id": "cca2a5b5",
   "metadata": {},
   "outputs": [],
   "source": [
    "# Drop rows with invalid dates\n",
    "df = df.dropna(subset=['order_date'])"
   ]
  },
  {
   "cell_type": "code",
   "execution_count": 20,
   "id": "85593443",
   "metadata": {
    "vscode": {
     "languageId": "ruby"
    }
   },
   "outputs": [],
   "source": [
    "# 🔹 Calculated Fields\n",
    "df['quantity'] = pd.to_numeric(df['quantity_ordered'], errors='coerce')\n",
    "df['unit_price'] = pd.to_numeric(df['price_each'], errors='coerce')"
   ]
  },
  {
   "cell_type": "code",
   "execution_count": 21,
   "id": "89f7947c",
   "metadata": {},
   "outputs": [],
   "source": [
    "# Revenue (already exists in 'sales', but we recalculate for clarity)\n",
    "df['revenue'] = df['quantity'] * df['unit_price']"
   ]
  },
  {
   "cell_type": "code",
   "execution_count": 22,
   "id": "adc238b1",
   "metadata": {},
   "outputs": [],
   "source": [
    "# Estimate cost (assume 70% of unit price for cost if cost not available)\n",
    "df['cost_price'] = df['unit_price'] * 0.7\n",
    "df['cost'] = df['quantity'] * df['cost_price']\n",
    "df['profit'] = df['revenue'] - df['cost']"
   ]
  },
  {
   "cell_type": "markdown",
   "id": "cc83b2f1",
   "metadata": {},
   "source": [
    "# Aggregation"
   ]
  },
  {
   "cell_type": "code",
   "execution_count": 23,
   "id": "cbfce081",
   "metadata": {},
   "outputs": [],
   "source": [
    "# Region = city, Product = product\n",
    "region_product_sales = df.groupby(['city', 'product'])[['revenue', 'profit', 'quantity']].sum().reset_index()\n",
    "region_product_sales.to_csv(\"region_product_sales.csv\", index=False)"
   ]
  },
  {
   "cell_type": "code",
   "execution_count": 24,
   "id": "ee4d7884",
   "metadata": {},
   "outputs": [],
   "source": [
    "# Monthly revenue & profit trend\n",
    "df['month'] = df['order_date'].dt.to_period('M')\n",
    "monthly_sales = df.groupby('month')[['revenue', 'profit']].sum().reset_index()\n",
    "monthly_sales['month'] = monthly_sales['month'].astype(str)\n",
    "monthly_sales.to_csv(\"monthly_sales_trend.csv\", index=False)"
   ]
  },
  {
   "cell_type": "code",
   "execution_count": 25,
   "id": "9e9c432f",
   "metadata": {},
   "outputs": [
    {
     "name": "stdout",
     "output_type": "stream",
     "text": [
      "Saved: region_product_sales.csv, monthly_sales_trend.csv, and heatmap image.\n"
     ]
    }
   ],
   "source": [
    "# 🔹 Monthly Profit Heatmap\n",
    "df['year'] = df['order_date'].dt.year\n",
    "df['month_name'] = df['order_date'].dt.strftime('%B')\n",
    "\n",
    "monthly_heatmap = df.groupby(['year', 'month_name'])['profit'].sum().unstack(fill_value=0)\n",
    "\n",
    "plt.figure(figsize=(12, 6))\n",
    "sns.heatmap(monthly_heatmap, annot=True, fmt=\".0f\", cmap=\"YlGnBu\")\n",
    "plt.title(\"Monthly Profit Heatmap\")\n",
    "plt.tight_layout()\n",
    "plt.savefig(\"monthly_profit_heatmap.png\")\n",
    "plt.close()\n",
    "\n",
    "print(\"Saved: region_product_sales.csv, monthly_sales_trend.csv, and heatmap image.\")"
   ]
  }
 ],
 "metadata": {
  "kernelspec": {
   "display_name": "base",
   "language": "python",
   "name": "python3"
  },
  "language_info": {
   "codemirror_mode": {
    "name": "ipython",
    "version": 3
   },
   "file_extension": ".py",
   "mimetype": "text/x-python",
   "name": "python",
   "nbconvert_exporter": "python",
   "pygments_lexer": "ipython3",
   "version": "3.12.7"
  }
 },
 "nbformat": 4,
 "nbformat_minor": 5
}
